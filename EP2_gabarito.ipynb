{
 "cells": [
  {
   "cell_type": "markdown",
   "metadata": {},
   "source": [
    "## Atividade Prática 2: Mudanças de Base\n",
    "\n",
    "### Revisão do conceito de base\n",
    "\n",
    "Nessa tarefa exploraremos as transformações resultantes de mudar a base de representação em um espaço vetorial. Vimos na seção 1.8 que uma *base* de um espaço vetorial $V$ é um conjunto $S$ em $V$ que tem as seguintes propriedades:\n",
    "\n",
    "- $S$ é um *conjunto gerador* para $V$, ou seja, $S$ permite representar qualquer $x\\in V$ através de uma equação\n",
    "$$x=\\sum_{i=0}^{K-1}a_iv_i$$\n",
    "onde $a_i$ são escalares e $v_i\\in S,\\ \\forall i$.\n",
    "\n",
    "- $S$ é *linearmente independente*, ou seja, não existem vetores em $S$ \"redundantes\"; em matematiquês isso equivale a dizer que qualquer sistema da forma\n",
    "$$\\sum_{i=0}^{K-1}a_iv_i=0$$\n",
    "com $v_i\\in S$ só admite a solução trivial $a_i=0,\\ \\forall i$.\n",
    "\n",
    "Em particular, a base canônica do $\\mathbb{R}^N$ ou $\\mathbb{C}^N$, formada pelos vetores $e_i$ que possuem $1$ na $i$-ésima posição e $0$ nas demais, são conjuntos geradores desses espaços (por construção), e linearmente independentes (pois o sistema $\\displaystyle\\sum_{i=0}^{K-1}a_ie_i=(a_0,a_1,\\ldots,a_{N-1})=(0,0,\\ldots,0)$ implica imediatamente $a_i=0,\\ \\forall i$), e assim serve de fato como *base* para aqueles dois espaços. Uma propriedade importante dessa base é que ela é *ortogonal*, ou seja, que $(e_i,e_j)=0,\\ \\forall i\\neq j$.\n",
    "\n",
    "### Base e Dimensão\n",
    "\n",
    "Se $S$ é uma base finita para $V$, o tamanho $N=|S|$ de $S$ é denominado **dimensão** de $V$, e é possível provar que qualquer outra base de $V$ também possui exatamente $N$ elementos. Pelos exemplos acima podemos estabelecer que tanto $\\mathbb{R}^N$ quanto $\\mathbb{C}^N$ são espaços $N$-dimensionais.\n",
    "\n",
    "Em um espaço $N$ dimensional, qualquer conjunto ortogonal de $N$ vetores não-nulos é necessariamente uma base. Isso decorre do fato de que se $S=\\{v_0,v_1,\\ldots,v_{N-1}\\}$ com $v_i\\neq 0,\\ \\forall i$ e $(v_i,v_j)=0,\\ \\forall v_i,v_j\\in S,\\ i\\neq j$, então o sistema\n",
    "$\\displaystyle\\sum_{i=0}^{K-1}a_iv_i=0$ pode ser resolvido fazendo produtos internos com cada $v_j$:\n",
    "$$\\displaystyle\\left(\\sum_{i=0}^{K-1}a_iv_i,v_j\\right) = \\sum_{i=0}^{K-1}a_i(v_i,v_j) = a_j(v_j,v_j) = 0,$$\n",
    "onde o somatório desaparece porque $(v_i,v_j)=0$ para todo $i\\neq j$, e como $(v_j,v_j)=\\|v_j\\|^2\\neq 0$ segue que $a_j=0$ (esse argumento vale $\\forall j$).\n",
    "\n",
    "*Não se confunda:* apesar de representarmos o conjunto $\\mathbb{C}$ dos complexos em um plano, como espaço vetorial $\\mathbb{C}$ tem dimensão 1, pois qualquer elemento de $\\mathbb{C}$ pode ser escrito como $\\alpha\\cdot(1)$, onde $\\alpha\\in\\mathbb{C}$; pela mesma razão, os $N$ elementos da base canônica de $\\mathbb{C}^N$ são suficientes para produzir qualquer vetor com $N$ componentes complexas, pois os *escalares* nesse caso são eles próprios complexos, e então a dimensão de $\\mathbb{C}^N$ é de fato $N$ (e não $2N$).\n",
    "\n",
    "### Mudanças de base\n",
    "\n",
    "Se $S$ é uma base qualquer para $V$, temos uma garantia de que é possível representar qualquer $x\\in V$ como $x=\\displaystyle\\sum_{i=0}^{K-1}a_iv_i$ (Eq. I). Uma pergunta razoável é: \"como encontrar os $a_i$'s?\". Um solução muito simples existe quando $S$ é uma base ortogonal: nesse caso, podemos proceder outra vez por eliminação, fazendo  produtos internos da Eq. I com cada $v_j$:\n",
    "$$(x,v_j) = \\left(\\sum_{i=0}^{K-1}a_iv_i,v_j\\right) = \\sum_{i=0}^{K-1}a_i(v_i,v_j) = a_j(v_j,v_j),$$\n",
    "de onde segue que\n",
    "$$a_j=\\frac{(x,v_j)}{(v_j,v_j)}$$\n",
    "(observe que como $S$ é base, $0\\not\\in S$ e portanto $(v_j,v_j)=\\|v_j\\|^2\\neq 0,\\ \\forall v_j\\in S$)."
   ]
  },
  {
   "cell_type": "markdown",
   "metadata": {},
   "source": [
    "#### Dependências dessa tarefa"
   ]
  },
  {
   "cell_type": "code",
   "execution_count": null,
   "metadata": {},
   "outputs": [],
   "source": [
    "import math as m\n",
    "import numpy as np"
   ]
  },
  {
   "cell_type": "markdown",
   "metadata": {},
   "source": [
    "#### Exercício 1: Considere o conjunto $S=\\{v_1,v_2,v_3\\}\\subset\\mathbb{R}^3$ com $v_1=(1,1,0)$, $v_2=(-1,1,1)$ e $v_3=(1,-1,2)$.\n",
    "\n",
    "(a) Escreva um código que verifique que $S$ é ortogonal com respeito ao produto interno canônico $\\displaystyle(x,y)=\\sum_{i=0}^2x_iy_i$. Como $|S|=3$, isso mostrará que $S$ é uma base para $\\mathbb{R}^3$."
   ]
  },
  {
   "cell_type": "code",
   "execution_count": null,
   "metadata": {},
   "outputs": [],
   "source": [
    "# Exercício 1(a)\n",
    "# Dicas: use sempre arrays do numpy com valores float,\n",
    "# por exemplo v = np.array([[1.,0.],[0.,1.]]) ou v = np.array([[1,0],[0,1]],dtype=float);\n",
    "# use a função np.inner(x,y) para computar (x,y),\n",
    "# e o comando \"assert np.linalg.norm(z)<1e-12\" para checar se ||z||=0.\n",
    "\n",
    "N = 3\n",
    "v = np.array([ [1,1,0], [-1,1,1], [1,-1,2] ],dtype=float)\n",
    "print(\"Observe que\")\n",
    "for i in range(N):\n",
    "    for j in range(i+1,N):\n",
    "        z = np.inner(v[i],v[j])\n",
    "        print(\"({},{})={}\".format(v[i],v[j],z))\n",
    "        assert np.linalg.norm(z)<1e-12\n",
    "print(\"portanto S é ortogonal.\")"
   ]
  },
  {
   "cell_type": "markdown",
   "metadata": {},
   "source": [
    "(b) Escreva um código que compute os coeficientes $a_1,a_2,a_3$ da representação de $x=(3,4,5)$ em relação à base $S$, e que verifique que a expressão $\\displaystyle x=\\sum_{k=1}^3a_kv_k=a_1v_1+a_2v_2+a_3v_3$ de fato é satisfeita."
   ]
  },
  {
   "cell_type": "code",
   "execution_count": null,
   "metadata": {},
   "outputs": [],
   "source": [
    "# Exercício 1(b)\n",
    "\n",
    "x = np.array([3,4,5])\n",
    "a = np.zeros(N)\n",
    "for i in range(N):\n",
    "    a[i] = np.inner(x,v[i])/np.inner(v[i],v[i])\n",
    "print(\"Coeficientes em relação a S: a={}\".format(a))\n",
    "y = np.zeros(N) # = soma de a[i]*v[i]\n",
    "for i in range(N):\n",
    "    y += a[i]*v[i]\n",
    "print(\"sum(a_iv_i)={}\".format(y))\n",
    "assert np.linalg.norm(x-y)<1e-12\n",
    "print(\"De fato x=sum(a_iv_i).\")"
   ]
  },
  {
   "cell_type": "markdown",
   "metadata": {},
   "source": [
    "(c) Escreva um código que compute os vetores *normalizados* $S'=\\{v'_1,v'_2,v'_3\\}$ onde $v'_i=\\frac{v_i}{\\|v_i\\|}$, e depois compute os coeficientes $a'_1,a'_2,a'_3$ da representação de $x=(3,4,5)$ em relação à base $S'$, verificando que a expressão $x=a'_1v'_1+a'_2v'_2+a'_3v'_3$ de fato é satisfeita. (Obs: uma base ortogonal e normalizada é chamada de *base ortonormal*)."
   ]
  },
  {
   "cell_type": "code",
   "execution_count": null,
   "metadata": {
    "scrolled": true
   },
   "outputs": [],
   "source": [
    "# Exercício 1(c)\n",
    "\n",
    "w = v.copy() # w_i = v'_i\n",
    "for i in range(N):\n",
    "    w[i] = v[i]/np.linalg.norm(v[i])\n",
    "    print(\"v'_{}={}\".format(i+1,w[i]))\n",
    "# código repetido do 1(b) com w no lugar de v\n",
    "a = np.zeros(N)\n",
    "for i in range(N):\n",
    "    a[i] = np.inner(x,w[i]) # (w_i,w_i)=1\n",
    "print(\"Coeficientes em relação a S': a'={}\".format(a))\n",
    "y = np.zeros(N) # = soma de a'[i]*v'[i]\n",
    "for i in range(N):\n",
    "    y += a[i]*w[i]\n",
    "print(\"sum(a'_iv'_i)={}\".format(y))\n",
    "assert np.linalg.norm(x-y)<1e-12\n",
    "print(\"De fato x=sum(a'_iv'_i).\")"
   ]
  },
  {
   "cell_type": "markdown",
   "metadata": {},
   "source": [
    "(d) Escreva um código que verifique que $\\|x\\|^2(=x_1^2+x_2^2+x_3^2)=\\|a'\\|^2(=a_1^2+a_2^2+a_3^2)$. Esse resultado é conhecido como *Equação de Parseval*, que estabelece que as representações $(x_1,x_2,x_3)$ e $(a'_1,a'_2,a'_3)$ têm o mesmo \"tamanho\" (e assim a transformação $x\\mapsto a'$ é uma *isometria*)."
   ]
  },
  {
   "cell_type": "code",
   "execution_count": null,
   "metadata": {
    "scrolled": true
   },
   "outputs": [],
   "source": [
    "# Exercício 1(d)\n",
    "\n",
    "nx = np.linalg.norm(x)**2\n",
    "print(\"||x||^2={}\",nx)\n",
    "na = np.linalg.norm(a)**2\n",
    "print(\"||a'||^2={}\",na)\n",
    "assert np.linalg.norm(na-nx)<1e-12\n",
    "print(\"De fato ||x||^2=||a'||^2.\")"
   ]
  },
  {
   "cell_type": "markdown",
   "metadata": {},
   "source": [
    "#### Exercício 2: Considere o conjunto $S=\\{E_0,E_1,E_2,E_3\\}$ onde $E_k\\in\\mathbb{C}^4$ é o vetor definido por $$(E_k)_n=e^{i2\\pi kn/4},\\ n=0,1,2,3.$$ Já vimos no Exemplo 1.20 que esse conjunto é ortogonal, e portanto $S$ é uma base de $\\mathbb{C}^4$.\n",
    "\n",
    "(a) Use a mesma estratégia do Exercício 1(a) para verificar computacionalmente que esses vetores são de fato ortogonais em relação ao produto interno canônico $\\displaystyle(x,y)=\\sum_{i=0}^3x_i\\overline{y_i}$."
   ]
  },
  {
   "cell_type": "code",
   "execution_count": null,
   "metadata": {},
   "outputs": [],
   "source": [
    "# Exercício 2(a)\n",
    "# Dica: compute os produtos internos (x,y) como np.inner(x,np.conjugate(y))\n",
    "\n",
    "N = 4\n",
    "n = np.arange(N)\n",
    "E = np.array([np.exp(1j*2*m.pi*k*n/N) for k in range(N)])\n",
    "print(\"Observe que\")\n",
    "for i in range(N):\n",
    "    for j in range(i+1,N):\n",
    "        z = np.inner(E[i],np.conjugate(E[j]))\n",
    "        print(\"({},{})={}\".format(E[i],E[j],z))\n",
    "        assert np.linalg.norm(z)<1e-12\n",
    "print(\"portanto S é ortogonal!\")"
   ]
  },
  {
   "cell_type": "markdown",
   "metadata": {},
   "source": [
    "(b) Use a mesma estratégia do Exercício 1(b) para escrever $v=(1,5,-2,3)$ como combinação linear dos elementos de $S$, ou seja, escreva um código para computar os coeficientes $a_k$ tais que $\\displaystyle v=\\sum_{k=0}^3a_kE_k$ e verificar automaticamente essa equação."
   ]
  },
  {
   "cell_type": "code",
   "execution_count": null,
   "metadata": {},
   "outputs": [],
   "source": [
    "# Exercício 2(b)\n",
    "# Dica: use somente vetores numpy complexos, fazendo v = np.array(...,dtype=complex)\n",
    "\n",
    "v = np.array([1.,5.,-2.,3.],dtype=complex)\n",
    "a = np.zeros(N,dtype=complex)\n",
    "for i in range(N):\n",
    "    a[i] = np.inner(v,np.conjugate(E[i]))/np.inner(E[i],np.conjugate(E[i]))\n",
    "print(\"Coeficientes em relação a S: a={}\".format(a))\n",
    "y = np.zeros(N,dtype=complex) # = soma de a[i]*E[i]\n",
    "for i in range(N):\n",
    "    y += a[i]*E[i]\n",
    "print(\"sum(a_iE_i)={}\".format(y))\n",
    "assert np.linalg.norm(v-y)<1e-12\n",
    "print(\"De fato x=sum(a_iE_i).\")"
   ]
  },
  {
   "cell_type": "markdown",
   "metadata": {},
   "source": [
    "(c) Use a mesma estratégia do Exercício 1(c) para normalizar os vetores $E_k$ (obtendo vetores $E'_k$ e uma base ortonormal $S'$) e use-os para escrever $v=(1,5,-2,3)$ como combinação linear dos elementos de $S'$, ou seja, escreva um código para computar os coeficientes $a'_k$ tais que $\\displaystyle v=\\sum_{k=0}^3a'_kE'_k$ e verificar automaticamente essa equação."
   ]
  },
  {
   "cell_type": "code",
   "execution_count": null,
   "metadata": {},
   "outputs": [],
   "source": [
    "# Exercício 2(c)\n",
    "\n",
    "F = E.copy() # F_k = E'_k\n",
    "for i in range(N):\n",
    "    F[i] = E[i]/np.linalg.norm(E[i])\n",
    "    print(\"E'_{}={}\".format(i+1,F[i]))\n",
    "# código repetido do 2(b) com F no lugar de E\n",
    "a = np.zeros(N,dtype=complex)\n",
    "for k in range(N):\n",
    "    a[k] = np.inner(v,np.conjugate(F[k])) # ||F[k]||=1\n",
    "print(\"Coeficientes em relação a S': a={}\".format(a))\n",
    "y = np.zeros(N,dtype=complex) # = soma de a[i]*E[i]\n",
    "for k in range(N):\n",
    "    y += a[k]*F[k]\n",
    "print(\"sum(a_iE'_i)={}\".format(y))\n",
    "assert np.linalg.norm(v-y)<1e-12\n",
    "print(\"De fato x=sum(a_iE'_i).\")"
   ]
  },
  {
   "cell_type": "markdown",
   "metadata": {},
   "source": [
    "(d) Use a mesma estratégia do Exercício 1(d) para verificar que $\\|v\\|^2=\\|a'\\|^2$."
   ]
  },
  {
   "cell_type": "code",
   "execution_count": null,
   "metadata": {},
   "outputs": [],
   "source": [
    "# Exercício 2(d)\n",
    "\n",
    "nv = np.linalg.norm(v)**2\n",
    "print(\"||v||^2={}\",nv)\n",
    "na = np.linalg.norm(a)**2\n",
    "print(\"||a'||^2={}\",na)\n",
    "assert np.linalg.norm(na-nv)<1e-12\n",
    "print(\"De fato ||v||^2=||a'||^2\")"
   ]
  }
 ],
 "metadata": {
  "kernelspec": {
   "display_name": "Python 3",
   "language": "python",
   "name": "python3"
  },
  "language_info": {
   "codemirror_mode": {
    "name": "ipython",
    "version": 3
   },
   "file_extension": ".py",
   "mimetype": "text/x-python",
   "name": "python",
   "nbconvert_exporter": "python",
   "pygments_lexer": "ipython3",
   "version": "3.7.6"
  }
 },
 "nbformat": 4,
 "nbformat_minor": 2
}
