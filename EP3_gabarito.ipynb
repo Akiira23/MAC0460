{
 "cells": [
  {
   "cell_type": "markdown",
   "metadata": {},
   "source": [
    "# Atividade Prática 3\n",
    "\n",
    "## Transformada de Fourier para imagens\n",
    "\n",
    "### Entrega: até 24/04/2020 às 23:59 no e-disciplinas\n",
    "\n",
    "#### Nome: ________________________ N° USP: ________  ( ) Grad ( ) Pós\n",
    "\n",
    "---\n",
    "###  \n",
    "\n",
    "A transformada de Fourier de uma imagem $A\\in\\mathcal{M}_{m,n}(\\mathbb{C})$ segue bem de perto o exemplo 1.24, e corresponde aos coeficientes não-normalizados da mudança de base da representação usual (base canônica) para a base das formas básicas de onda bidimensionais dadas pelas matrizes $\\mathcal{E}_{k,l}$, definidas na seção 1.7.2 como\n",
    "\n",
    "$$\\left(\\mathcal{E}_{k,l}\\right)_{r,s} = e^{i2\\pi(kr/m+ls/n)},\\quad r=0,\\ldots,m-1,\\quad s=0,\\ldots,n-1,$$\n",
    "\n",
    "onde escrevemos $A=\\displaystyle\\sum_{k=0}^{m-1}\\sum_{l=0}^{n-1}c_{k,l}\\mathcal{E}_{k,l}$ e obtemos os coeficientes $c_{k,l}$ pelo teorema 1.8.3 como $c_{k,l}=\\frac{\\left(A,\\mathcal{E}_{k,l}\\right)}{mn}$.\n",
    "\n",
    "Especificamente, definimos $\\hat{A}=DFT(A)\\in\\mathcal{M}_{m,n}(\\mathbb{C})$ como a matriz cujas componentes são\n",
    "\n",
    "$$\\hat{A}_{k,l} = \\left(A,\\mathcal{E}_{k,l}\\right) = \\sum_{r=0}^{m-1}\\sum_{s=0}^{n-1}A_{r,s}e^{-i2\\pi(kr/m+ls/n)},\\quad k=0,\\ldots,m-1,\\quad l=0,\\ldots,n-1.$$\n",
    "\n",
    "Observe que nessa definição, $k$ e $l$ são índices associados às *frequências de varredura por linhas e por colunas*, respectivamente, enquanto $r$ e $s$ são os índices de linhas e colunas dentro das matrizes $A$ e $\\mathcal{E}_{k,l}$."
   ]
  },
  {
   "cell_type": "markdown",
   "metadata": {},
   "source": [
    "---\n",
    "\n",
    "**Exercício 1a:** Adapte o código da implementação \"ingênua\" da DFT unidimensional, fornecido abaixo, para produzir uma implementação análoga da DFT bidimensional."
   ]
  },
  {
   "cell_type": "code",
   "execution_count": 88,
   "metadata": {},
   "outputs": [],
   "source": [
    "import math as m\n",
    "import numpy as np\n",
    "\n",
    "def DFTingenua(x):\n",
    "    N = len(x); n = np.array(range(N))\n",
    "    X = np.ndarray(N, dtype=complex)\n",
    "    for k in range(N):\n",
    "        X[k] = sum(x*np.exp(-1j*2*m.pi*k*n/N))\n",
    "    return X"
   ]
  },
  {
   "cell_type": "code",
   "execution_count": 89,
   "metadata": {},
   "outputs": [],
   "source": [
    "# Resposta do exercício 1a\n",
    "def DFT2ingenua(A):\n",
    "    # begin gabarito\n",
    "    # obs: nessa implementação, a matriz auxiliar E_{k,l} é construída\n",
    "    # usando meshgrid, convertendo a expressão e^(i2π(kr/M+ls/N)) em uma matriz\n",
    "    # (isso poderia ser feito com mais um laço duplo em (r,s), com a função np.inner,\n",
    "    # ou ainda usando list comprehension como no gabarito do exercício 1b).\n",
    "    (M,N) = np.shape(A); r,s = np.meshgrid(range(M),range(N),indexing='ij')\n",
    "    Ahat = np.ndarray((M,N), dtype=complex)\n",
    "    for k in range(M):\n",
    "        for l in range(N):\n",
    "            Ahat[k,l] = sum(sum(A*np.exp(-1j*2*m.pi*(k*r/M+l*s/N))))\n",
    "    # end gabarito\n",
    "    return Ahat"
   ]
  },
  {
   "cell_type": "markdown",
   "metadata": {},
   "source": [
    "---\n",
    "\n",
    "### Testes automatizados\n",
    "\n",
    "É possível testar automaticamente o código da DFT comparando as saídas da função implementada com valores pré-calculados a partir da definição. Por exemplo, na DFT 1D vimos (exercício 2.4 da última lista) que os vetores $e_r=(0,\\ldots,0,\\overbrace{1}^{i=r},0,\\ldots,0)$ da base canônica possuem como DFT os vetores\n",
    "$$DFT(e_r) = \\overline{E_r} = (e^0,e^{-i2\\pi r/N},e^{-i2\\pi 2r/N},\\ldots,e^{-i2\\pi (N-1)r/N}).$$\n",
    "\n",
    "Esses casos de teste são utilizados na função abaixo. Para cada $e_r$ ela constrói a DFT teórica e a compara com o resultado da chamada da função DFTingenua. Observe que o código só imprime a frase no final porque todas as comparações (asserts) estão muito próximas do esperado (o código usa $\\varepsilon=10^{-8}$ como tolerância nas comparações)."
   ]
  },
  {
   "cell_type": "code",
   "execution_count": 90,
   "metadata": {},
   "outputs": [
    {
     "name": "stdout",
     "output_type": "stream",
     "text": [
      "A função DFTingenua passou no teste!\n"
     ]
    }
   ],
   "source": [
    "# teste automatizado:\n",
    "# para cada vetor e_r da base canônica, computa sua DFT\n",
    "# e compara com a expressão teórica DFT(e_r)=\\overline{E_r} (E_r conjugado)\n",
    "def testeDFTingenua(N):\n",
    "    for r in range(N):\n",
    "        e_r = np.zeros(N); e_r[r] = 1\n",
    "        DFTe_r = [ np.exp(-1j*2*m.pi*r*k/N) for k in range(N) ]\n",
    "        assert np.linalg.norm(DFTingenua(e_r)-DFTe_r) < 1e-8\n",
    "\n",
    "testeDFTingenua(4)\n",
    "print(\"A função DFTingenua passou no teste!\")"
   ]
  },
  {
   "cell_type": "markdown",
   "metadata": {},
   "source": [
    "---\n",
    "\n",
    "**Exercício 1b:** Adapte o código do teste automatizado da DFT unidimensional fornecido acima para testar sua implementação da DFT bidimensional. Seu teste deve percorrer todas as matrizes da base canônica de $\\mathcal{M}_{m,n}(\\mathbb{C})$ e comparar o resultado de sua função DFT2ingenua com a DFT prevista pela definição. Você deve construir essas DFTs previstas a partir das expressões teóricas: dada uma matriz da base canônica $e_{r,s}\\in\\mathcal{M}_{m,n}(\\mathbb{C})$ definida por $(e_{r,s})_{i,j} = 1$ se $(r,s)=(i,j)$ e $(e_{r,s})_{i,j} = 0$ caso contrário, sua DFT será a matriz $\\hat{e}_{r,s}\\in\\mathcal{M}_{m,n}(\\mathbb{C})$ cujas componentes são\n",
    "\n",
    "$$\\left(\\hat{e}_{r,s}\\right)_{k,l} = e^{-i2\\pi(kr/m+ls/n)},\\quad k=0,\\ldots,m-1,\\quad l=0,\\ldots,n-1.$$"
   ]
  },
  {
   "cell_type": "code",
   "execution_count": 91,
   "metadata": {},
   "outputs": [
    {
     "name": "stdout",
     "output_type": "stream",
     "text": [
      "A função DFT2ingenua passou no teste!\n"
     ]
    }
   ],
   "source": [
    "# Resposta do exercício 1b\n",
    "def testeDFT2ingenua(M,N):\n",
    "    # begin gabarito\n",
    "    # obs: nessa implementação, a matriz ê_{rs} é construída usando list comprehension\n",
    "    # (poderia também ser feito com meshgrid como no exercício 1a, ou com um laço duplo).\n",
    "    for r in range(M):\n",
    "        for s in range(N):\n",
    "            E_rs = np.zeros((M,N)); E_rs[r,s] = 1\n",
    "            DFTE_rs = [ [ np.exp(-1j*2*m.pi*(r*k/M+s*l/N)) for l in range(N) ] for k in range(M) ]\n",
    "            assert np.linalg.norm(DFT2ingenua(E_rs)-DFTE_rs) < 1e-8\n",
    "    # end gabarito\n",
    "\n",
    "testeDFT2ingenua(4,8)\n",
    "print(\"A função DFT2ingenua passou no teste!\")"
   ]
  },
  {
   "cell_type": "markdown",
   "metadata": {},
   "source": [
    "---\n",
    "\n",
    "## DFT 2D como DFT nas linhas e nas colunas de A\n",
    "\n",
    "Uma relação muito importante entre a DFT unidimensional e a DFT bidimensional é a seguinte: se $\\hat{A} = DFT(A)$, onde $A,\\hat{A}\\in\\mathcal{M}_{m,n}(\\mathbb{C})$, então\n",
    "\n",
    "$$\\hat{A} = F_mAF_n^T,$$\n",
    "\n",
    "onde $F_m\\in\\mathcal{M}_{m,m}(\\mathbb{C})$ e $F_n\\in\\mathcal{M}_{n,n}(\\mathbb{C})$ são as matrizes que representam as DFTs unidimensionais nos espaços $\\mathbb{C}^m$ e $\\mathbb{C}^n$, respectivamente.\n",
    "\n",
    "Para ver que isso é verdade, basta calcular o produto de matrizes acima:\n",
    "\n",
    "$$\\begin{array}{ll}\n",
    "\\left(F_mAF_n^T\\right)_{k,l} & = ((F_mA)F_n^T)_{k,l}\\\\\n",
    "& = \\mbox{\"linha k de $F_mA$\" $\\quad\\times\\quad$ \"coluna l de $F_n^T$\"}\\\\\n",
    "& = \\mbox{\"linha k de $F_mA$\" $\\quad\\times\\quad$ \"linha l de $F_n$\"}\\\\\n",
    "& = \\displaystyle\\sum_{s=0}^{n-1}(FmA)_{k,s}e^{-i2\\pi ls/n}\\\\\n",
    "& = \\displaystyle\\sum_{s=0}^{n-1}\\left(\\sum_{r=0}^{m-1}A_{r,s}e^{-i2\\pi kr/m}\\right)e^{-i2\\pi ls/n}\\\\\n",
    "& = \\displaystyle\\sum_{r=0}^{m-1}\\sum_{s=0}^{n-1}A_{r,s}e^{-i2\\pi(kr/m+ls/n)}\\\\\n",
    "& = \\hat{A}_{k,l}\n",
    "\\end{array}$$\n",
    "\n",
    "A interpretação algorítmica da identidade $DFT(A) = F_mAF_n^T$ é a seguinte:\n",
    "\n",
    "- A parte $F_mA$ pode ser vista como uma aplicação da DFT nas **colunas** de A:\n",
    "\n",
    "$$F_mA = \\left[\\begin{array}{l|l|l|l}\n",
    "\\rule{0mm}{0mm}\\\\\n",
    "F_mA^0&F_mA^1&\\ldots&F_mA^{n-1}\\\\\n",
    "\\rule{0mm}{0mm}\n",
    "\\end{array}\\right]\n",
    " = \\left[\\begin{array}{l|l|l|l}\n",
    "\\rule{0mm}{0mm}\\\\\n",
    "DFT(A^0)&DFT(A^1)&\\ldots&DFT(A^{n-1})\\\\\n",
    "\\rule{0mm}{0mm}\n",
    "\\end{array}\\right]$$\n",
    "\n",
    "- O produto subsequente por $F_n^T$ pode ser visto como uma aplicação da DFT nas **linhas** da matriz resultante $X=F_mA$, pois\n",
    "\n",
    "$$XF_n^T = \\left[\\begin{array}{c}\n",
    "\\rule{2cm}{0mm}X_0F_n^T\\rule{2cm}{0mm}\\\\\\hline\n",
    "X_1F_n^T\\\\\\hline\n",
    "\\vdots\\\\\\hline\n",
    "X_{m-1}F_n^T\n",
    "\\end{array}\\right]\n",
    " = \\left[\\begin{array}{c}\n",
    "\\rule{2cm}{0mm}DFT(X_0)^T\\rule{2cm}{0mm}\\\\\\hline\n",
    "DFT(X_1)^T\\\\\\hline\n",
    "\\vdots\\\\\\hline\n",
    "DFT(X_{m-1})^T\n",
    "\\end{array}\\right]$$\n",
    "\n",
    "- Finalmente, a associatividade do produto de matrizes $$F_mAF_n^T=(F_mA)F_n^T=F_m(AF_n^T)$$ permite ver que o mesmo resultado poderia ser atingido calculando-se primeiro a DFT das linhas de $A$ e depois a DFT das colunas resultantes."
   ]
  },
  {
   "cell_type": "markdown",
   "metadata": {},
   "source": [
    "---\n",
    "\n",
    "**Exercício 2a:** Use a implementação da FFT unidimensional abaixo para construir uma implementação da FFT bidimensional usando a identidade $DFT(A) = F_mAF_n^T$."
   ]
  },
  {
   "cell_type": "code",
   "execution_count": 92,
   "metadata": {},
   "outputs": [],
   "source": [
    "def FFT(x):\n",
    "    N = len(x);\n",
    "    if N<=1: return x\n",
    "    X = np.ndarray(N, dtype=complex)\n",
    "    Xpar = FFT(x[0:N:2])\n",
    "    Ximpar = FFT(x[1:N:2])\n",
    "    for k in range(N):\n",
    "        X[k] = Xpar[k%(N//2)]+np.exp(-1j*2*m.pi*k/N)*Ximpar[k%(N//2)]\n",
    "    return X"
   ]
  },
  {
   "cell_type": "code",
   "execution_count": 93,
   "metadata": {},
   "outputs": [],
   "source": [
    "# Resposta do exercício 2a\n",
    "def FFT2(A):\n",
    "    # begin gabarito\n",
    "    (M,N) = np.shape(A);\n",
    "    Ahat = np.ndarray((M,N), dtype=complex)\n",
    "    for r in range(M):\n",
    "        Ahat[r,:] = FFT(A[r,:])\n",
    "    for s in range(N):\n",
    "        Ahat[:,s] = FFT(Ahat[:,s])\n",
    "    # end gabarito\n",
    "    return Ahat"
   ]
  },
  {
   "cell_type": "markdown",
   "metadata": {},
   "source": [
    "---\n",
    "\n",
    "**Exercício 2b:** Escreva uma função para testar sua implementação da FFT bidimensional, comparando os resultados dessa função com a sua implementação DFT2ingenua."
   ]
  },
  {
   "cell_type": "code",
   "execution_count": 94,
   "metadata": {},
   "outputs": [
    {
     "name": "stdout",
     "output_type": "stream",
     "text": [
      "A função FFT2 passou no teste!\n"
     ]
    }
   ],
   "source": [
    "# Resposta do exercício 2b\n",
    "def testeFFT2(M,N):\n",
    "    # begin gabarito\n",
    "    for r in range(M):\n",
    "        for s in range(N):\n",
    "            E_rs = np.zeros((M,N)); E_rs[r,s] = 1\n",
    "            assert np.linalg.norm(DFT2ingenua(E_rs)-FFT2(E_rs)) < 1e-8\n",
    "    # end gabarito\n",
    "\n",
    "testeFFT2(4,8)\n",
    "print(\"A função FFT2 passou no teste!\")"
   ]
  }
 ],
 "metadata": {
  "kernelspec": {
   "display_name": "Python 3",
   "language": "python",
   "name": "python3"
  },
  "language_info": {
   "codemirror_mode": {
    "name": "ipython",
    "version": 3
   },
   "file_extension": ".py",
   "mimetype": "text/x-python",
   "name": "python",
   "nbconvert_exporter": "python",
   "pygments_lexer": "ipython3",
   "version": "3.7.6"
  }
 },
 "nbformat": 4,
 "nbformat_minor": 2
}
