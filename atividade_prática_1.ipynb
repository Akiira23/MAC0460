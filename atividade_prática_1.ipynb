{
 "cells": [
  {
   "cell_type": "markdown",
   "metadata": {},
   "source": [
    "## Atividade Prática 1: Amostragem e rebatimento\n",
    "\n",
    "Nessa tarefa exploraremos a amostragem de sinais e imagens sintetizados a partir de funções senoidais, e o efeito de rebatimento resultante da relação entre a taxa de amostragem e a frequência do sinal."
   ]
  },
  {
   "cell_type": "markdown",
   "metadata": {},
   "source": [
    "#### Dependências dessa tarefa"
   ]
  },
  {
   "cell_type": "code",
   "execution_count": null,
   "metadata": {},
   "outputs": [],
   "source": [
    "import math as m\n",
    "import numpy as np\n",
    "import matplotlib.pyplot as plt\n",
    "from IPython.display import Audio"
   ]
  },
  {
   "cell_type": "markdown",
   "metadata": {},
   "source": [
    "#### Exercício 1:\n",
    "\n",
    "(a) construa um sinal de 1 seg de duração com frequência f = 4000 Hz e taxa de amostragem R = 40000 Hz:\n",
    "\n",
    "$$x(t) = \\sin(2\\pi f t)\\quad\\quad t=0,\\frac{1}{R},\\frac{2}{R},\\ldots,1-\\frac{1}{R}$$\n",
    "\n",
    "(b) Plote um trecho do sinal correspondente a 5 períodos completos.\n",
    "\n",
    "(c) Adicione um widget para reproduzir o sinal (já resolvido)."
   ]
  },
  {
   "cell_type": "code",
   "execution_count": null,
   "metadata": {},
   "outputs": [],
   "source": [
    "# Exercício 1(a)\n",
    "# Dicas: use np.arange, np.sin e m.pi\n",
    "R = 40000\n",
    "f = 4000\n",
    "t = np.arange(0,1,1/R)\n",
    "x = np.sin(2*m.pi*f*t)"
   ]
  },
  {
   "cell_type": "code",
   "execution_count": null,
   "metadata": {},
   "outputs": [],
   "source": [
    "# Exercício 1(b)\n",
    "# Dica: use plt.plot(tempo,sinal)\n",
    "c = int(5*R/f)+1\n",
    "plt.plot(t[0:c],x[0:c])"
   ]
  },
  {
   "cell_type": "code",
   "execution_count": null,
   "metadata": {
    "scrolled": true
   },
   "outputs": [],
   "source": [
    "# Exercício 1(c) resolvido\n",
    "display(Audio(x, rate=R))"
   ]
  },
  {
   "cell_type": "markdown",
   "metadata": {},
   "source": [
    "#### Exercício 2:\n",
    "\n",
    "Repita a construção do exercício 1 com a mesma frequência e taxa de amostragem R = 10000 Hz. Comente na célula abaixo as diferenças visuais e auditivas observadas."
   ]
  },
  {
   "cell_type": "code",
   "execution_count": null,
   "metadata": {},
   "outputs": [],
   "source": [
    "# Exercício 2\n",
    "R = 10000\n",
    "f = 4000\n",
    "t = np.arange(0,1,1/R)\n",
    "x = np.sin(2*m.pi*f*t)\n",
    "c = int(5*R/f)+1\n",
    "plt.plot(t[0:c],x[0:c])\n",
    "display(Audio(x, rate=R))"
   ]
  },
  {
   "cell_type": "markdown",
   "metadata": {
    "scrolled": true
   },
   "source": [
    "#### Inclua aqui os comentários referentes ao exercício 2"
   ]
  },
  {
   "cell_type": "markdown",
   "metadata": {
    "scrolled": true
   },
   "source": [
    "Observa-se que a forma de onda fica bastante irregular, o que condiz com a baixa quantidade de pontos usada na representação dessa forma (cada período contém apenas 10000/4000 = 2.5 amostras). Por outro lado, a audição não revela alterações significativas no sinal."
   ]
  },
  {
   "cell_type": "markdown",
   "metadata": {},
   "source": [
    "#### Exercício 3:\n",
    "\n",
    "Repita a construção do exercício 1 com a mesma frequência e taxa de amostragem R = 5000 Hz. Comente na célula abaixo as diferenças visuais e auditivas observadas."
   ]
  },
  {
   "cell_type": "code",
   "execution_count": null,
   "metadata": {
    "scrolled": false
   },
   "outputs": [],
   "source": [
    "# Exercício 3\n",
    "R = 5000\n",
    "f = 4000\n",
    "t = np.arange(0,1,1/R)\n",
    "x = np.sin(2*m.pi*f*t)\n",
    "c = int(5*R/f)+1\n",
    "plt.plot(t[0:c],x[0:c])\n",
    "display(Audio(x, rate=R))"
   ]
  },
  {
   "cell_type": "markdown",
   "metadata": {
    "scrolled": true
   },
   "source": [
    "#### Inclua aqui os comentários referentes ao exercício 3"
   ]
  },
  {
   "cell_type": "markdown",
   "metadata": {
    "scrolled": true
   },
   "source": [
    "Nesse caso a forma de onda fica completamente alterada, pois no espaço de 5 períodos a forma de onda parece mostrar apenas um período completo (cada período contém apenas 5000/4000 = 1.25 amostras). Em relação à audição o sinal mudou consideravelmente, soando mais grave do que o original."
   ]
  },
  {
   "cell_type": "markdown",
   "metadata": {},
   "source": [
    "#### Exercício 4:\n",
    "\n",
    "(a) Construa um gráfico sobrepondo as formas de onda dos exercícios 1 e 3\n",
    "\n",
    "(b) Estime a frequência aparente do sinal produzido no ex. 3 a partir do gráfico do item (a)"
   ]
  },
  {
   "cell_type": "code",
   "execution_count": null,
   "metadata": {
    "scrolled": true
   },
   "outputs": [],
   "source": [
    "# Exercício 4(a)\n",
    "# Dica: basta fazer chamadas consecutivas da função plt.plot()\n",
    "for R in [5000, 40000]:\n",
    "    f = 4000\n",
    "    t = np.arange(0,1,1/R)\n",
    "    x = np.sin(2*m.pi*f*t)\n",
    "    c = int(5*R/f)+1\n",
    "    plt.plot(t[0:c],x[0:c])"
   ]
  },
  {
   "cell_type": "markdown",
   "metadata": {},
   "source": [
    "#### Inclua aqui os comentários referentes ao exercício 4(b)"
   ]
  },
  {
   "cell_type": "markdown",
   "metadata": {},
   "source": [
    "#### Resposta\n",
    "A forma de onda parece completar seu ciclo depois de 4 períodos da forma original, assim teríamos um período aparente de 4x o período original, e portanto uma frequência aparente 4x menor, ou seja, f_aparente = 1000 Hz"
   ]
  },
  {
   "cell_type": "markdown",
   "metadata": {},
   "source": [
    "## Explicação: o fenômeno do rebatimento\n",
    "\n",
    "**O problema:** existem infinitos valores de $f$ e $g$ tais que\n",
    "\n",
    "$$\\sin(2\\pi f\\frac{n}{R}) = \\sin(2\\pi g\\frac{n}{R}), \\forall n\\in\\mathbb{Z}$$\n",
    "\n",
    "Para essa condição valer, basta que os argumentos das senoides acima correspondam sempre a ângulos equivalentes. Isso ocorre, por exemplo, quando\n",
    "\n",
    "$$2\\pi f\\frac{n}{R} = 2\\pi g\\frac{n}{R} + k*2\\pi*n$$\n",
    "\n",
    "para algum $k\\in\\mathbb{Z}$ e para qualquer $n\\in\\mathbb{Z}$. A condição acima equivale a\n",
    "\n",
    "$$f-g = kR.$$\n",
    "\n",
    "A mesma condição vale para que dois cossenos de frequências $f$ e $g$ produzam a mesma lista de amostras, e analogamente para duas exponenciais complexas de frequências f e g:\n",
    "\n",
    "$$\\begin{array}{c}\n",
    "e^{i2\\pi f\\frac{n}{R}} = e^{i2\\pi g\\frac{n}{R}}, \\forall n\\in\\mathbb{Z}\\\\\n",
    "\\Updownarrow\\\\\n",
    "e^{i2\\pi (f-g)\\frac{n}{R}}=1, \\forall n\\in\\mathbb{Z}\\\\\n",
    "\\Updownarrow\\\\\n",
    "\\forall n\\in\\mathbb{Z}\\quad\\exists k\\in\\mathbb{Z}: 2\\pi (f-g)\\frac{n}{R} = k2\\pi\\\\\n",
    "\\Updownarrow\\\\\n",
    "\\exists k\\in\\mathbb{Z}: f-g = kR\n",
    "\\end{array}\n",
    "$$\n",
    "\n",
    "Assim, ao utilizarmos uma taxa de amostragem R, todas as senoides e/ou exponenciais com frequências\n",
    "\n",
    "$$g=\\ldots,f-3R,f-2R,f-R,f,f+R,f+2R,f+3R\\ldots$$\n",
    "\n",
    "gerarão a mesma lista de amostras que aquela com frequência $f$."
   ]
  },
  {
   "cell_type": "markdown",
   "metadata": {},
   "source": [
    "### Aliasing traz duas implicações importantes:\n",
    "\n",
    "> - implicação física/perceptual: ao se amostrar um sinal analógico com taxa de amostragem $R$, perde-se a capacidade de discernir frequências separadas por múltiplos de $R$, e em particular os valores que não estão na faixa $-\\frac{R}{2}<f\\le \\frac{R}{2}$ serão representados incorretamente (rebatidos), correspondendo a alguma outra frequência (aparente) que pertence à faixa representável.\n",
    "\n",
    "> - implicação matemática: para se analisar um sinal a $R$ Hz, basta considerar frequências na faixa $-\\frac{R}{2}<f\\le \\frac{R}{2}$.\n",
    "\n",
    "Essas implicações ilustram a condição de Shannon-Nyquist, que afirma que para representar corretamente componentes senoidais de até $F$ Hz é necessário utilizar uma taxa de amostragem $R\\ge 2F$ Hz, e também explicam a necessidade de utilização de filtros passa-baixas na conversão analógico-digital.\n",
    "\n"
   ]
  },
  {
   "cell_type": "markdown",
   "metadata": {},
   "source": [
    "#### Exercício 5:\n",
    "\n",
    "Calcule a frequência aparente $f$ na faixa $-\\frac{R}{2}<f\\le \\frac{R}{2}$ que corresponde exatamente ao sinal digital gerado no exercício 3, justificando suas contas no contexto da discussão acima."
   ]
  },
  {
   "cell_type": "markdown",
   "metadata": {
    "scrolled": true
   },
   "source": [
    "#### Inclua aqui as contas e comentários referentes ao exercício 5"
   ]
  },
  {
   "cell_type": "markdown",
   "metadata": {
    "scrolled": true
   },
   "source": [
    "Devemos encontrar $f\\in(-2500,+2500]$ tal que $f-4000 = k5000\\iff f=k5000+4000$, cuja solução é $k=-1$ e $f=1000$, como identificado visualmente no exercício 4."
   ]
  },
  {
   "cell_type": "markdown",
   "metadata": {},
   "source": [
    "#### Exercício 6:\n",
    "\n",
    "Considere a função\n",
    "\n",
    "$$f(x,y)=\\sin(2\\pi(50x+70y))$$\n",
    "\n",
    "definida no retângulo $(x,y)\\in[0,1]\\times[0,1]$.\n",
    "\n",
    "(a) Construa as imagens correspondentes à função acima, usando taxas de amostragem iguais nas duas variáveis com os valores $R=50,60,70,80,500$.\n",
    "\n",
    "(b) Justifique os padrões observados em função das frequências aparentes, levando em consideração as flutuações horizontais e verticais."
   ]
  },
  {
   "cell_type": "code",
   "execution_count": null,
   "metadata": {},
   "outputs": [],
   "source": [
    "# Exercício 6(a)\n",
    "# Dicas: após a amostragem dos eixos horizontal e vertical,\n",
    "# use X,Y = np.meshgrid(x,y) para criar matrizes X e Y com\n",
    "# os valores correspondentes a cada ponto do plano amostrado.\n",
    "# Use plt.figure(), plt.gray() e plt.imshow(f) para cada novo\n",
    "# valor de R a fim de produzir sempre gráficos novos.\n",
    "R=[50,60,70,80,500]\n",
    "for j in range(len(R)):\n",
    "    density = R[j]\n",
    "    x = np.arange(0,1,1/density)\n",
    "    y = np.arange(1,0,-1/density)\n",
    "    X, Y = np.meshgrid(x,y)\n",
    "    f = np.sin(2 * m.pi * (50*X + 70*Y))\n",
    "    plt.figure()\n",
    "    plt.gray()\n",
    "    plt.imshow(f)"
   ]
  },
  {
   "cell_type": "markdown",
   "metadata": {
    "scrolled": true
   },
   "source": [
    "#### Inclua aqui as contas e comentários referentes ao exercício 6(b)"
   ]
  },
  {
   "cell_type": "markdown",
   "metadata": {
    "scrolled": true
   },
   "source": [
    "No primeiro caso temos $R=50$ e frequência máxima representável $25$, assim as frequências aparentes serão $f_x= 50-50=0$ e $f_y=70-50=20$, de onde os padrões observados são verticais (sem oscilação no eixo x) e repetem-se 20 vezes.\n",
    "\n",
    "No segundo caso temos $R=60$ e frequência máxima representável $30$, assim as frequências aparentes serão $f_x= 50-60=-10$ e $f_y=70-60=10$, de onde as flutuações observadas repetem-se 10 vezes tanto na direção horizontal quanto vertical, produzindo padrões perfeitamente diagonais.\n",
    "\n",
    "No terceiro caso $R=70$ e a frequência máxima representável é $35$, logo $f_x= 50-70=-20$ e $f_y=70-70=0$, de onde os padrões observados são horizontais (sem oscilação no eixo y) e repetem-se 20 vezes.\n",
    "\n",
    "No quarto caso $R=80$, permitindo a representação de componentes de frequência até $40$, logo $f_x= 50-80=-30$ e $f_y=70-80=-10$, de onde o padrão gerado possui flutuações 3x mais rápidas no eixo x do que no eixo y, explicando a inclinação das curvas de nível observadas.\n",
    "\n",
    "Finalmente, com $R=500$ as duas componentes podem ser representadas corretamente e os padrões gerados correspondem às frequências de 50 oscilações no eixo x e 70 oscilações no eixo y."
   ]
  }
 ],
 "metadata": {
  "kernelspec": {
   "display_name": "Python 3",
   "language": "python",
   "name": "python3"
  },
  "language_info": {
   "codemirror_mode": {
    "name": "ipython",
    "version": 3
   },
   "file_extension": ".py",
   "mimetype": "text/x-python",
   "name": "python",
   "nbconvert_exporter": "python",
   "pygments_lexer": "ipython3",
   "version": "3.7.6"
  }
 },
 "nbformat": 4,
 "nbformat_minor": 2
}
